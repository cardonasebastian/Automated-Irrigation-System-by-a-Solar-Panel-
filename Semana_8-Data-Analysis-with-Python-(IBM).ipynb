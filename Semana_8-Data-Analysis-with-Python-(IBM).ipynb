{
  "nbformat": 4,
  "nbformat_minor": 0,
  "metadata": {
    "colab": {
      "provenance": [],
      "authorship_tag": "ABX9TyOGzH9F6DILtUFjYj4iRWK2",
      "include_colab_link": true
    },
    "kernelspec": {
      "name": "python3",
      "display_name": "Python 3"
    },
    "language_info": {
      "name": "python"
    }
  },
  "cells": [
    {
      "cell_type": "markdown",
      "metadata": {
        "id": "view-in-github",
        "colab_type": "text"
      },
      "source": [
        "<a href=\"https://colab.research.google.com/github/cardonasebastian/Automated-Irrigation-System-by-a-Solar-Panel-/blob/master/Semana_8-Data-Analysis-with-Python-(IBM).ipynb\" target=\"_parent\"><img src=\"https://colab.research.google.com/assets/colab-badge.svg\" alt=\"Open In Colab\"/></a>"
      ]
    },
    {
      "cell_type": "markdown",
      "source": [
        "###**Actividad Semanal -- 8: Data Analysis with Python (IBM)**\n",
        "Maestría en Inteligencia Artificial Aplicada\n",
        "\n",
        "Tecnológico de Monterrey\n",
        "\n",
        "Materia: Ciencia y Analítica de Datos\n",
        "\n",
        "**Profesor Titular:**\n",
        "- María de la Paz Rico Fernández\n",
        "\n",
        "**Profesor Tutor:**\n",
        "- Roberto Antonio Guevara González\n",
        "\n",
        "**Nombre de la estudiante:**\n",
        "- Fernando Sebastian Sanchez Cardona\n",
        "\n",
        "**Matricula:**\n",
        "- A01687530"
      ],
      "metadata": {
        "id": "kDxc0dBi9LoG"
      }
    },
    {
      "cell_type": "markdown",
      "source": [],
      "metadata": {
        "id": "gktNagTw9Q5R"
      }
    }
  ]
}